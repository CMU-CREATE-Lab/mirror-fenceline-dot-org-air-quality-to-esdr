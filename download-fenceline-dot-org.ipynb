{
 "metadata": {
  "name": "",
  "signature": "sha256:213ccbdd1da9d24d38681bf8d5252d76328d4eaf27e6768f0e7987e567871638"
 },
 "nbformat": 3,
 "nbformat_minor": 0,
 "worksheets": [
  {
   "cells": [
    {
     "cell_type": "code",
     "collapsed": false,
     "input": [
      "import datetime, os, urllib2\n",
      "from dateutil import tz"
     ],
     "language": "python",
     "metadata": {},
     "outputs": [],
     "prompt_number": 24
    },
    {
     "cell_type": "code",
     "collapsed": false,
     "input": [
      "sites = ['rodeo', 'richmond']\n",
      "site = 'rodeo'"
     ],
     "language": "python",
     "metadata": {},
     "outputs": [],
     "prompt_number": 8
    },
    {
     "cell_type": "code",
     "collapsed": false,
     "input": [
      "for site in sites:\n",
      "    src = 'http://www.fenceline.org/%s/data.php' % site\n",
      "    dest = site + '/' + datetime.datetime.now(tz.tzutc()).strftime('%Y-%m-%d/%H:%M:%S-UTC.html')\n",
      "    html = urllib2.urlopen(src).read()\n",
      "    try:\n",
      "        os.makedirs(os.path.dirname(dest))\n",
      "    except:\n",
      "        pass\n",
      "    open(dest, 'w').write(html)\n",
      "    print 'Mirrored %s to %s (len %d)' % (src, dest, len(html))\n"
     ],
     "language": "python",
     "metadata": {},
     "outputs": [
      {
       "output_type": "stream",
       "stream": "stdout",
       "text": [
        "Mirrored http://www.fenceline.org/rodeo/data.php to rodeo/2015-05-29/14:25:12-UTC.html (len 80473)\n",
        "Mirrored http://www.fenceline.org/richmond/data.php to richmond/2015-05-29/14:25:14-UTC.html (len 116949)"
       ]
      },
      {
       "output_type": "stream",
       "stream": "stdout",
       "text": [
        "\n"
       ]
      }
     ],
     "prompt_number": 28
    },
    {
     "cell_type": "code",
     "collapsed": false,
     "input": [],
     "language": "python",
     "metadata": {},
     "outputs": []
    }
   ],
   "metadata": {}
  }
 ]
}