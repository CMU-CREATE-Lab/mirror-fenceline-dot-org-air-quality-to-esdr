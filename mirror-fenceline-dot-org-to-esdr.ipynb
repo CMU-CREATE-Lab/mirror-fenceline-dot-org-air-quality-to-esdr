{
 "metadata": {
  "name": "",
  "signature": "sha256:0f5805d0336a220f25d0a2210607dada506bf8671ed5b4f562292dba512e4554"
 },
 "nbformat": 3,
 "nbformat_minor": 0,
 "worksheets": [
  {
   "cells": [
    {
     "cell_type": "code",
     "collapsed": false,
     "input": [
      "import datetime, re, time, urllib2\n",
      "from dateutil import tz\n",
      "\n",
      "# scrapy web scraper\n",
      "# To install, run\n",
      "# !pip install scrapy\n",
      "# then restart kernel\n",
      "# If you see an error about zope version, double-check that you restarted the kernel\n",
      "from scrapy.selector import Selector\n",
      "\n",
      "def exec_ipynb(url):\n",
      "    import json, re, urllib2\n",
      "    nb = (urllib2.urlopen(url) if re.match(r'https?:', url) else open(url)).read()\n",
      "    exec '\\n'.join([''.join(cell['input']) for cell in json.loads(nb)['worksheets'][0]['cells'] if cell['cell_type'] == 'code']) in globals()\n",
      "\n",
      "exec_ipynb('python-utils/esdr-library.ipynb')"
     ],
     "language": "python",
     "metadata": {},
     "outputs": [],
     "prompt_number": 2
    },
    {
     "cell_type": "code",
     "collapsed": false,
     "input": [
      "url = 'http://www.fenceline.org/rodeo/data.php'\n",
      "html = urllib2.urlopen(url).read()\n",
      "selector = Selector(text = html)"
     ],
     "language": "python",
     "metadata": {},
     "outputs": [],
     "prompt_number": 5
    },
    {
     "cell_type": "code",
     "collapsed": false,
     "input": [
      "ftirTable = \n",
      "ftirTable.xpath(\"tr[count(td)=3]/td/text()\").extract()\n",
      "ftirTable.xpath(\"tr\")[0].xpath(\"td\").extract()\n",
      "\n",
      "\n"
     ],
     "language": "python",
     "metadata": {},
     "outputs": [
      {
       "metadata": {},
       "output_type": "pyout",
       "prompt_number": 35,
       "text": [
        "[u'<td width=\"43%\"><strong>Chemical<br>\\r\\n                              (values in PPB)\\r\\n                              </strong>\\r\\n                            </td>',\n",
        " u'<td width=\"28%\" align=\"right\"><strong>South <br>\\r\\n                            Fence Line</strong></td>',\n",
        " u'<td width=\"29%\" align=\"right\"><strong>North<br>\\r\\n                            Fence Line</strong></td>']"
       ]
      }
     ],
     "prompt_number": 35
    },
    {
     "cell_type": "code",
     "collapsed": false,
     "input": [
      "def tableToArray(sel):\n",
      "    ret = []\n",
      "    rows = sel.xpath('tr')\n",
      "    for row in rows:\n",
      "        cols = row.xpath('td')\n",
      "        rowText = []\n",
      "        for col in cols:\n",
      "            text = ' '.join(col.xpath('.//text()[not(ancestor::script)]').extract())\n",
      "            val = re.sub(r'\\s+', ' ', text).strip()\n",
      "            rowText.append(val)\n",
      "        ret.append(rowText)\n",
      "    return ret\n",
      "\n",
      "\n",
      "def parseTable(selector, title, feeds):\n",
      "    # Find table with title in <thead>\n",
      "    table = tableToArray(selector.xpath(\"//table[thead[contains(.,'%s')]]\" % title))\n",
      "    print table\n",
      "    return table\n",
      "\n",
      "t = parseTable(selector, 'FTIR', [])\n",
      "\n"
     ],
     "language": "python",
     "metadata": {},
     "outputs": [
      {
       "output_type": "stream",
       "stream": "stdout",
       "text": [
        "[[u'Chemical (values in PPB)', u'South Fence Line', u'North Fence Line'], [u'System Status', u'Online', u'Online'], [u'System Manufacturer', u'Midac', u'MIDAC'], [u'Date', u'2015-05-28', u'2015-05-28'], [u'Time', u'11:05:49', u'11:07:25'], [u'1,3 Butadiene', u'ND', u'ND'], [u'Carbonyl Sulfide', u'ND', u'ND'], [u'Total Hydrocarbons', u'35', u'42'], [u'Carbon Monoxide', u'233', u'125'], [u'Ethanol', u'ND', u'ND'], [u'Ethylene', u'ND', u'ND'], [u'Nitrous Oxide', u'341', u'318'], [u'Ammonia', u'ND', u'ND'], [u'Mercaptan', u'ND', u'ND'], [u'Methane', u'2704', u'1905'], [u'MTBE', u'ND', u'ND'], [u'']]\n"
       ]
      }
     ],
     "prompt_number": 65
    },
    {
     "cell_type": "code",
     "collapsed": false,
     "input": [
      "col = 1\n",
      "table = t\n",
      "date = None\n",
      "time = None\n",
      "for row in table[1:]:\n",
      "    if row[0] == 'Date' or row[0] == 'Data Date':\n",
      "        date = row[col]\n",
      "    elif row[0] == 'Time' or row[0] == 'Data Time':\n",
      "        time = row[col]\n",
      "    else:\n",
      "        channels.append(row[0])\n",
      "        data.append(row[col] == \"ND\" ? 0 : float)\n",
      "        \n",
      "print date\n",
      "print time\n",
      "        \n",
      "        "
     ],
     "language": "python",
     "metadata": {},
     "outputs": [
      {
       "output_type": "stream",
       "stream": "stdout",
       "text": [
        "2015-05-28\n",
        "11:05:49\n"
       ]
      }
     ],
     "prompt_number": 71
    },
    {
     "cell_type": "code",
     "collapsed": false,
     "input": [
      "ftir = parseTable(selector.xpath(\"//table[thead[contains(.,'FTIR')]]\"))\n",
      "print ftir\n",
      "uv = parseTable(selector.xpath(\"//table[thead[contains(.,'UV')]]\"))\n",
      "print uv\n",
      "ogd = parseTable(selector.xpath(\"//table[thead[contains(.,'OGD')]]\"))\n",
      "print ogd\n",
      "tdl = parseTable(selector.xpath(\"//table[thead[contains(.,'TDL')]]\"))\n",
      "print tdl\n",
      "weather = parseTable(selector.xpath(\"//table[thead[contains(.,'Weather')]]\"))\n",
      "print weather\n"
     ],
     "language": "python",
     "metadata": {},
     "outputs": []
    },
    {
     "cell_type": "code",
     "collapsed": false,
     "input": [],
     "language": "python",
     "metadata": {},
     "outputs": []
    }
   ],
   "metadata": {}
  }
 ]
}